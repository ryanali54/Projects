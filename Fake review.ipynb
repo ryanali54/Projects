{
 "cells": [
  {
   "cell_type": "code",
   "execution_count": 3,
   "id": "180e179a",
   "metadata": {},
   "outputs": [
    {
     "name": "stdout",
     "output_type": "stream",
     "text": [
      "3.9.1\n"
     ]
    }
   ],
   "source": [
    "import nltk\n",
    "print(nltk.__version__)\n"
   ]
  },
  {
   "cell_type": "code",
   "execution_count": 48,
   "id": "580206db",
   "metadata": {},
   "outputs": [
    {
     "name": "stdout",
     "output_type": "stream",
     "text": [
      "Requirement already satisfied: pandas in c:\\users\\admin\\anaconda3\\envs\\amazon-review-checker\\lib\\site-packages (2.2.3)\n",
      "Requirement already satisfied: numpy in c:\\users\\admin\\anaconda3\\envs\\amazon-review-checker\\lib\\site-packages (2.2.4)\n",
      "Requirement already satisfied: scikit-learn in c:\\users\\admin\\anaconda3\\envs\\amazon-review-checker\\lib\\site-packages (1.6.1)\n",
      "Requirement already satisfied: matplotlib in c:\\users\\admin\\anaconda3\\envs\\amazon-review-checker\\lib\\site-packages (3.10.0)\n",
      "Requirement already satisfied: nltk in c:\\users\\admin\\anaconda3\\envs\\amazon-review-checker\\lib\\site-packages (3.9.1)\n",
      "Requirement already satisfied: seaborn in c:\\users\\admin\\anaconda3\\envs\\amazon-review-checker\\lib\\site-packages (0.13.2)\n",
      "Requirement already satisfied: wordcloud in c:\\users\\admin\\anaconda3\\envs\\amazon-review-checker\\lib\\site-packages (1.9.4)\n",
      "Requirement already satisfied: xgboost in c:\\users\\admin\\anaconda3\\envs\\amazon-review-checker\\lib\\site-packages (3.0.0)\n",
      "Requirement already satisfied: python-dateutil>=2.8.2 in c:\\users\\admin\\anaconda3\\envs\\amazon-review-checker\\lib\\site-packages (from pandas) (2.9.0.post0)\n",
      "Requirement already satisfied: pytz>=2020.1 in c:\\users\\admin\\anaconda3\\envs\\amazon-review-checker\\lib\\site-packages (from pandas) (2025.2)\n",
      "Requirement already satisfied: tzdata>=2022.7 in c:\\users\\admin\\anaconda3\\envs\\amazon-review-checker\\lib\\site-packages (from pandas) (2025.2)\n",
      "Requirement already satisfied: scipy>=1.6.0 in c:\\users\\admin\\anaconda3\\envs\\amazon-review-checker\\lib\\site-packages (from scikit-learn) (1.15.2)\n",
      "Requirement already satisfied: joblib>=1.2.0 in c:\\users\\admin\\anaconda3\\envs\\amazon-review-checker\\lib\\site-packages (from scikit-learn) (1.4.2)\n",
      "Requirement already satisfied: threadpoolctl>=3.1.0 in c:\\users\\admin\\anaconda3\\envs\\amazon-review-checker\\lib\\site-packages (from scikit-learn) (3.5.0)\n",
      "Requirement already satisfied: contourpy>=1.0.1 in c:\\users\\admin\\anaconda3\\envs\\amazon-review-checker\\lib\\site-packages (from matplotlib) (1.3.1)\n",
      "Requirement already satisfied: cycler>=0.10 in c:\\users\\admin\\anaconda3\\envs\\amazon-review-checker\\lib\\site-packages (from matplotlib) (0.11.0)\n",
      "Requirement already satisfied: fonttools>=4.22.0 in c:\\users\\admin\\anaconda3\\envs\\amazon-review-checker\\lib\\site-packages (from matplotlib) (4.55.3)\n",
      "Requirement already satisfied: kiwisolver>=1.3.1 in c:\\users\\admin\\anaconda3\\envs\\amazon-review-checker\\lib\\site-packages (from matplotlib) (1.4.8)\n",
      "Requirement already satisfied: packaging>=20.0 in c:\\users\\admin\\anaconda3\\envs\\amazon-review-checker\\lib\\site-packages (from matplotlib) (24.2)\n",
      "Requirement already satisfied: pillow>=8 in c:\\users\\admin\\anaconda3\\envs\\amazon-review-checker\\lib\\site-packages (from matplotlib) (11.1.0)\n",
      "Requirement already satisfied: pyparsing>=2.3.1 in c:\\users\\admin\\anaconda3\\envs\\amazon-review-checker\\lib\\site-packages (from matplotlib) (3.2.0)\n",
      "Requirement already satisfied: click in c:\\users\\admin\\anaconda3\\envs\\amazon-review-checker\\lib\\site-packages (from nltk) (8.1.8)\n",
      "Requirement already satisfied: regex>=2021.8.3 in c:\\users\\admin\\anaconda3\\envs\\amazon-review-checker\\lib\\site-packages (from nltk) (2024.11.6)\n",
      "Requirement already satisfied: tqdm in c:\\users\\admin\\anaconda3\\envs\\amazon-review-checker\\lib\\site-packages (from nltk) (4.67.1)\n",
      "Requirement already satisfied: six>=1.5 in c:\\users\\admin\\anaconda3\\envs\\amazon-review-checker\\lib\\site-packages (from python-dateutil>=2.8.2->pandas) (1.17.0)\n",
      "Requirement already satisfied: colorama in c:\\users\\admin\\anaconda3\\envs\\amazon-review-checker\\lib\\site-packages (from click->nltk) (0.4.6)\n"
     ]
    }
   ],
   "source": [
    "!pip install pandas numpy scikit-learn matplotlib nltk seaborn wordcloud xgboost"
   ]
  },
  {
   "cell_type": "code",
   "execution_count": 1,
   "id": "56346af1",
   "metadata": {
    "_cell_guid": "b1076dfc-b9ad-4769-8c92-a6c4dae69d19",
    "_uuid": "8f2839f25d086af736a60e9eeb907d3b93b6e0e5",
    "execution": {
     "iopub.execute_input": "2024-08-24T10:40:29.372534Z",
     "iopub.status.busy": "2024-08-24T10:40:29.372212Z",
     "iopub.status.idle": "2024-08-24T10:40:32.585167Z",
     "shell.execute_reply": "2024-08-24T10:40:32.584370Z"
    },
    "papermill": {
     "duration": 3.228445,
     "end_time": "2024-08-24T10:40:32.587405",
     "exception": false,
     "start_time": "2024-08-24T10:40:29.358960",
     "status": "completed"
    },
    "tags": []
   },
   "outputs": [],
   "source": [
    "import pandas as pd\n",
    "import numpy as np\n",
    "from sklearn.preprocessing import LabelEncoder\n",
    "import matplotlib.pyplot as plt\n",
    "import nltk\n",
    "from nltk.corpus import stopwords\n",
    "import string\n",
    "import seaborn as sns\n",
    "from nltk.stem.porter import PorterStemmer\n",
    "from wordcloud import WordCloud\n",
    "from sklearn.feature_extraction.text import TfidfVectorizer\n",
    "from sklearn.model_selection import train_test_split\n",
    "from sklearn.linear_model import LogisticRegression\n",
    "from sklearn.naive_bayes import MultinomialNB\n",
    "from sklearn.tree import DecisionTreeClassifier\n",
    "from sklearn.neighbors import KNeighborsClassifier\n",
    "from sklearn.ensemble import RandomForestClassifier\n",
    "from sklearn.ensemble import AdaBoostClassifier\n",
    "from xgboost import XGBClassifier\n",
    "from sklearn.ensemble import StackingClassifier\n",
    "import pickle\n",
    "from sklearn.ensemble import VotingClassifier\n",
    "from sklearn.metrics import accuracy_score,precision_score"
   ]
  },
  {
   "cell_type": "code",
   "execution_count": 5,
   "id": "540200c4",
   "metadata": {
    "execution": {
     "iopub.execute_input": "2024-08-24T10:40:32.613464Z",
     "iopub.status.busy": "2024-08-24T10:40:32.613038Z",
     "iopub.status.idle": "2024-08-24T10:40:32.756208Z",
     "shell.execute_reply": "2024-08-24T10:40:32.755276Z"
    },
    "papermill": {
     "duration": 0.158439,
     "end_time": "2024-08-24T10:40:32.758251",
     "exception": false,
     "start_time": "2024-08-24T10:40:32.599812",
     "status": "completed"
    },
    "tags": []
   },
   "outputs": [
    {
     "name": "stderr",
     "output_type": "stream",
     "text": [
      "[nltk_data] Downloading package punkt to\n",
      "[nltk_data]     C:\\Users\\Admin\\AppData\\Roaming\\nltk_data...\n",
      "[nltk_data]   Package punkt is already up-to-date!\n",
      "[nltk_data] Downloading package stopwords to\n",
      "[nltk_data]     C:\\Users\\Admin\\AppData\\Roaming\\nltk_data...\n",
      "[nltk_data]   Package stopwords is already up-to-date!\n",
      "[nltk_data] Downloading package vader_lexicon to\n",
      "[nltk_data]     C:\\Users\\Admin\\AppData\\Roaming\\nltk_data...\n",
      "[nltk_data]   Package vader_lexicon is already up-to-date!\n",
      "[nltk_data] Downloading package wordnet to\n",
      "[nltk_data]     C:\\Users\\Admin\\AppData\\Roaming\\nltk_data...\n",
      "[nltk_data]   Package wordnet is already up-to-date!\n",
      "[nltk_data] Downloading package averaged_perceptron_tagger to\n",
      "[nltk_data]     C:\\Users\\Admin\\AppData\\Roaming\\nltk_data...\n",
      "[nltk_data]   Package averaged_perceptron_tagger is already up-to-\n",
      "[nltk_data]       date!\n"
     ]
    },
    {
     "data": {
      "text/plain": [
       "True"
      ]
     },
     "execution_count": 5,
     "metadata": {},
     "output_type": "execute_result"
    }
   ],
   "source": [
    "nltk.download('punkt')          # Tokenizer\n",
    "nltk.download('stopwords')      # Common stopwords\n",
    "nltk.download('vader_lexicon')  # Sentiment analysis\n",
    "nltk.download('wordnet')        # Lemmatizer\n",
    "nltk.download('averaged_perceptron_tagger')  # POS tagging\n"
   ]
  },
  {
   "cell_type": "code",
   "execution_count": 6,
   "id": "012ca8e6",
   "metadata": {
    "execution": {
     "iopub.execute_input": "2024-08-24T10:40:32.784006Z",
     "iopub.status.busy": "2024-08-24T10:40:32.783685Z",
     "iopub.status.idle": "2024-08-24T10:40:33.092604Z",
     "shell.execute_reply": "2024-08-24T10:40:33.091621Z"
    },
    "papermill": {
     "duration": 0.324232,
     "end_time": "2024-08-24T10:40:33.094903",
     "exception": false,
     "start_time": "2024-08-24T10:40:32.770671",
     "status": "completed"
    },
    "tags": []
   },
   "outputs": [
    {
     "data": {
      "text/html": [
       "<div>\n",
       "<style scoped>\n",
       "    .dataframe tbody tr th:only-of-type {\n",
       "        vertical-align: middle;\n",
       "    }\n",
       "\n",
       "    .dataframe tbody tr th {\n",
       "        vertical-align: top;\n",
       "    }\n",
       "\n",
       "    .dataframe thead th {\n",
       "        text-align: right;\n",
       "    }\n",
       "</style>\n",
       "<table border=\"1\" class=\"dataframe\">\n",
       "  <thead>\n",
       "    <tr style=\"text-align: right;\">\n",
       "      <th></th>\n",
       "      <th>category</th>\n",
       "      <th>rating</th>\n",
       "      <th>label</th>\n",
       "      <th>text_</th>\n",
       "    </tr>\n",
       "  </thead>\n",
       "  <tbody>\n",
       "    <tr>\n",
       "      <th>0</th>\n",
       "      <td>Home_and_Kitchen_5</td>\n",
       "      <td>5.0</td>\n",
       "      <td>CG</td>\n",
       "      <td>Love this!  Well made, sturdy, and very comfor...</td>\n",
       "    </tr>\n",
       "    <tr>\n",
       "      <th>1</th>\n",
       "      <td>Home_and_Kitchen_5</td>\n",
       "      <td>5.0</td>\n",
       "      <td>CG</td>\n",
       "      <td>love it, a great upgrade from the original.  I...</td>\n",
       "    </tr>\n",
       "    <tr>\n",
       "      <th>2</th>\n",
       "      <td>Home_and_Kitchen_5</td>\n",
       "      <td>5.0</td>\n",
       "      <td>CG</td>\n",
       "      <td>This pillow saved my back. I love the look and...</td>\n",
       "    </tr>\n",
       "    <tr>\n",
       "      <th>3</th>\n",
       "      <td>Home_and_Kitchen_5</td>\n",
       "      <td>1.0</td>\n",
       "      <td>CG</td>\n",
       "      <td>Missing information on how to use it, but it i...</td>\n",
       "    </tr>\n",
       "    <tr>\n",
       "      <th>4</th>\n",
       "      <td>Home_and_Kitchen_5</td>\n",
       "      <td>5.0</td>\n",
       "      <td>CG</td>\n",
       "      <td>Very nice set. Good quality. We have had the s...</td>\n",
       "    </tr>\n",
       "  </tbody>\n",
       "</table>\n",
       "</div>"
      ],
      "text/plain": [
       "             category  rating label  \\\n",
       "0  Home_and_Kitchen_5     5.0    CG   \n",
       "1  Home_and_Kitchen_5     5.0    CG   \n",
       "2  Home_and_Kitchen_5     5.0    CG   \n",
       "3  Home_and_Kitchen_5     1.0    CG   \n",
       "4  Home_and_Kitchen_5     5.0    CG   \n",
       "\n",
       "                                               text_  \n",
       "0  Love this!  Well made, sturdy, and very comfor...  \n",
       "1  love it, a great upgrade from the original.  I...  \n",
       "2  This pillow saved my back. I love the look and...  \n",
       "3  Missing information on how to use it, but it i...  \n",
       "4  Very nice set. Good quality. We have had the s...  "
      ]
     },
     "execution_count": 6,
     "metadata": {},
     "output_type": "execute_result"
    }
   ],
   "source": [
    "df = pd.read_csv('fake reviews dataset.csv')\n",
    "\n",
    "df.head()"
   ]
  },
  {
   "cell_type": "code",
   "execution_count": 7,
   "id": "325df488",
   "metadata": {
    "execution": {
     "iopub.execute_input": "2024-08-24T10:40:33.121642Z",
     "iopub.status.busy": "2024-08-24T10:40:33.121318Z",
     "iopub.status.idle": "2024-08-24T10:40:33.131367Z",
     "shell.execute_reply": "2024-08-24T10:40:33.130677Z"
    },
    "papermill": {
     "duration": 0.025555,
     "end_time": "2024-08-24T10:40:33.133253",
     "exception": false,
     "start_time": "2024-08-24T10:40:33.107698",
     "status": "completed"
    },
    "tags": []
   },
   "outputs": [],
   "source": [
    "df.drop(columns = {'category'}, inplace = True)"
   ]
  },
  {
   "cell_type": "code",
   "execution_count": 8,
   "id": "834c99c9",
   "metadata": {
    "execution": {
     "iopub.execute_input": "2024-08-24T10:40:33.159381Z",
     "iopub.status.busy": "2024-08-24T10:40:33.159100Z",
     "iopub.status.idle": "2024-08-24T10:40:33.183984Z",
     "shell.execute_reply": "2024-08-24T10:40:33.183031Z"
    },
    "papermill": {
     "duration": 0.040017,
     "end_time": "2024-08-24T10:40:33.185918",
     "exception": false,
     "start_time": "2024-08-24T10:40:33.145901",
     "status": "completed"
    },
    "tags": []
   },
   "outputs": [
    {
     "name": "stdout",
     "output_type": "stream",
     "text": [
      "<class 'pandas.core.frame.DataFrame'>\n",
      "RangeIndex: 40432 entries, 0 to 40431\n",
      "Data columns (total 3 columns):\n",
      " #   Column  Non-Null Count  Dtype  \n",
      "---  ------  --------------  -----  \n",
      " 0   rating  40432 non-null  float64\n",
      " 1   label   40432 non-null  object \n",
      " 2   text_   40432 non-null  object \n",
      "dtypes: float64(1), object(2)\n",
      "memory usage: 947.8+ KB\n"
     ]
    }
   ],
   "source": [
    "df.info()"
   ]
  },
  {
   "cell_type": "code",
   "execution_count": 9,
   "id": "34570de0",
   "metadata": {
    "execution": {
     "iopub.execute_input": "2024-08-24T10:40:33.212247Z",
     "iopub.status.busy": "2024-08-24T10:40:33.211753Z",
     "iopub.status.idle": "2024-08-24T10:40:33.216255Z",
     "shell.execute_reply": "2024-08-24T10:40:33.215371Z"
    },
    "papermill": {
     "duration": 0.01948,
     "end_time": "2024-08-24T10:40:33.218080",
     "exception": false,
     "start_time": "2024-08-24T10:40:33.198600",
     "status": "completed"
    },
    "tags": []
   },
   "outputs": [],
   "source": [
    "df.rename(columns = {'text_': 'text'}, inplace = True)"
   ]
  },
  {
   "cell_type": "code",
   "execution_count": 10,
   "id": "0f47655d",
   "metadata": {
    "execution": {
     "iopub.execute_input": "2024-08-24T10:40:33.244550Z",
     "iopub.status.busy": "2024-08-24T10:40:33.244265Z",
     "iopub.status.idle": "2024-08-24T10:40:33.254149Z",
     "shell.execute_reply": "2024-08-24T10:40:33.253327Z"
    },
    "papermill": {
     "duration": 0.025406,
     "end_time": "2024-08-24T10:40:33.256003",
     "exception": false,
     "start_time": "2024-08-24T10:40:33.230597",
     "status": "completed"
    },
    "tags": []
   },
   "outputs": [
    {
     "data": {
      "text/html": [
       "<div>\n",
       "<style scoped>\n",
       "    .dataframe tbody tr th:only-of-type {\n",
       "        vertical-align: middle;\n",
       "    }\n",
       "\n",
       "    .dataframe tbody tr th {\n",
       "        vertical-align: top;\n",
       "    }\n",
       "\n",
       "    .dataframe thead th {\n",
       "        text-align: right;\n",
       "    }\n",
       "</style>\n",
       "<table border=\"1\" class=\"dataframe\">\n",
       "  <thead>\n",
       "    <tr style=\"text-align: right;\">\n",
       "      <th></th>\n",
       "      <th>rating</th>\n",
       "      <th>label</th>\n",
       "      <th>text</th>\n",
       "    </tr>\n",
       "  </thead>\n",
       "  <tbody>\n",
       "    <tr>\n",
       "      <th>0</th>\n",
       "      <td>5.0</td>\n",
       "      <td>CG</td>\n",
       "      <td>Love this!  Well made, sturdy, and very comfor...</td>\n",
       "    </tr>\n",
       "    <tr>\n",
       "      <th>1</th>\n",
       "      <td>5.0</td>\n",
       "      <td>CG</td>\n",
       "      <td>love it, a great upgrade from the original.  I...</td>\n",
       "    </tr>\n",
       "    <tr>\n",
       "      <th>2</th>\n",
       "      <td>5.0</td>\n",
       "      <td>CG</td>\n",
       "      <td>This pillow saved my back. I love the look and...</td>\n",
       "    </tr>\n",
       "    <tr>\n",
       "      <th>3</th>\n",
       "      <td>1.0</td>\n",
       "      <td>CG</td>\n",
       "      <td>Missing information on how to use it, but it i...</td>\n",
       "    </tr>\n",
       "    <tr>\n",
       "      <th>4</th>\n",
       "      <td>5.0</td>\n",
       "      <td>CG</td>\n",
       "      <td>Very nice set. Good quality. We have had the s...</td>\n",
       "    </tr>\n",
       "  </tbody>\n",
       "</table>\n",
       "</div>"
      ],
      "text/plain": [
       "   rating label                                               text\n",
       "0     5.0    CG  Love this!  Well made, sturdy, and very comfor...\n",
       "1     5.0    CG  love it, a great upgrade from the original.  I...\n",
       "2     5.0    CG  This pillow saved my back. I love the look and...\n",
       "3     1.0    CG  Missing information on how to use it, but it i...\n",
       "4     5.0    CG  Very nice set. Good quality. We have had the s..."
      ]
     },
     "execution_count": 10,
     "metadata": {},
     "output_type": "execute_result"
    }
   ],
   "source": [
    "df.head()"
   ]
  },
  {
   "cell_type": "code",
   "execution_count": 11,
   "id": "2804545d",
   "metadata": {
    "execution": {
     "iopub.execute_input": "2024-08-24T10:40:33.283473Z",
     "iopub.status.busy": "2024-08-24T10:40:33.282684Z",
     "iopub.status.idle": "2024-08-24T10:40:33.287609Z",
     "shell.execute_reply": "2024-08-24T10:40:33.286764Z"
    },
    "papermill": {
     "duration": 0.020725,
     "end_time": "2024-08-24T10:40:33.289610",
     "exception": false,
     "start_time": "2024-08-24T10:40:33.268885",
     "status": "completed"
    },
    "tags": []
   },
   "outputs": [],
   "source": [
    "def encode_label(df):\n",
    "    labels = {\n",
    "        'CG': 0,\n",
    "        'OR': 1\n",
    "    }\n",
    "    \n",
    "    df['target'] = df['label'].map(labels)\n",
    "    \n",
    "    return df"
   ]
  },
  {
   "cell_type": "code",
   "execution_count": 12,
   "id": "2511915b",
   "metadata": {
    "execution": {
     "iopub.execute_input": "2024-08-24T10:40:33.316383Z",
     "iopub.status.busy": "2024-08-24T10:40:33.316091Z",
     "iopub.status.idle": "2024-08-24T10:40:33.332371Z",
     "shell.execute_reply": "2024-08-24T10:40:33.331484Z"
    },
    "papermill": {
     "duration": 0.031812,
     "end_time": "2024-08-24T10:40:33.334277",
     "exception": false,
     "start_time": "2024-08-24T10:40:33.302465",
     "status": "completed"
    },
    "tags": []
   },
   "outputs": [
    {
     "data": {
      "text/html": [
       "<div>\n",
       "<style scoped>\n",
       "    .dataframe tbody tr th:only-of-type {\n",
       "        vertical-align: middle;\n",
       "    }\n",
       "\n",
       "    .dataframe tbody tr th {\n",
       "        vertical-align: top;\n",
       "    }\n",
       "\n",
       "    .dataframe thead th {\n",
       "        text-align: right;\n",
       "    }\n",
       "</style>\n",
       "<table border=\"1\" class=\"dataframe\">\n",
       "  <thead>\n",
       "    <tr style=\"text-align: right;\">\n",
       "      <th></th>\n",
       "      <th>rating</th>\n",
       "      <th>label</th>\n",
       "      <th>text</th>\n",
       "      <th>target</th>\n",
       "    </tr>\n",
       "  </thead>\n",
       "  <tbody>\n",
       "    <tr>\n",
       "      <th>0</th>\n",
       "      <td>5.0</td>\n",
       "      <td>CG</td>\n",
       "      <td>Love this!  Well made, sturdy, and very comfor...</td>\n",
       "      <td>0</td>\n",
       "    </tr>\n",
       "    <tr>\n",
       "      <th>1</th>\n",
       "      <td>5.0</td>\n",
       "      <td>CG</td>\n",
       "      <td>love it, a great upgrade from the original.  I...</td>\n",
       "      <td>0</td>\n",
       "    </tr>\n",
       "    <tr>\n",
       "      <th>2</th>\n",
       "      <td>5.0</td>\n",
       "      <td>CG</td>\n",
       "      <td>This pillow saved my back. I love the look and...</td>\n",
       "      <td>0</td>\n",
       "    </tr>\n",
       "    <tr>\n",
       "      <th>3</th>\n",
       "      <td>1.0</td>\n",
       "      <td>CG</td>\n",
       "      <td>Missing information on how to use it, but it i...</td>\n",
       "      <td>0</td>\n",
       "    </tr>\n",
       "    <tr>\n",
       "      <th>4</th>\n",
       "      <td>5.0</td>\n",
       "      <td>CG</td>\n",
       "      <td>Very nice set. Good quality. We have had the s...</td>\n",
       "      <td>0</td>\n",
       "    </tr>\n",
       "  </tbody>\n",
       "</table>\n",
       "</div>"
      ],
      "text/plain": [
       "   rating label                                               text  target\n",
       "0     5.0    CG  Love this!  Well made, sturdy, and very comfor...       0\n",
       "1     5.0    CG  love it, a great upgrade from the original.  I...       0\n",
       "2     5.0    CG  This pillow saved my back. I love the look and...       0\n",
       "3     1.0    CG  Missing information on how to use it, but it i...       0\n",
       "4     5.0    CG  Very nice set. Good quality. We have had the s...       0"
      ]
     },
     "execution_count": 12,
     "metadata": {},
     "output_type": "execute_result"
    }
   ],
   "source": [
    "df = encode_label(df)\n",
    "df['target'] = df['target'].fillna(0).replace([np.inf, -np.inf], 0)\n",
    "df['target'] = df['target'].astype(int)\n",
    "df.head()"
   ]
  },
  {
   "cell_type": "code",
   "execution_count": 13,
   "id": "2e96abd4",
   "metadata": {
    "execution": {
     "iopub.execute_input": "2024-08-24T10:40:33.360995Z",
     "iopub.status.busy": "2024-08-24T10:40:33.360712Z",
     "iopub.status.idle": "2024-08-24T10:40:33.366534Z",
     "shell.execute_reply": "2024-08-24T10:40:33.365439Z"
    },
    "papermill": {
     "duration": 0.021242,
     "end_time": "2024-08-24T10:40:33.368367",
     "exception": false,
     "start_time": "2024-08-24T10:40:33.347125",
     "status": "completed"
    },
    "tags": []
   },
   "outputs": [],
   "source": [
    "df.drop(columns = {'rating', 'label'}, inplace = True)"
   ]
  },
  {
   "cell_type": "code",
   "execution_count": 14,
   "id": "6c85c810",
   "metadata": {
    "execution": {
     "iopub.execute_input": "2024-08-24T10:40:33.394853Z",
     "iopub.status.busy": "2024-08-24T10:40:33.394545Z",
     "iopub.status.idle": "2024-08-24T10:40:33.409335Z",
     "shell.execute_reply": "2024-08-24T10:40:33.408423Z"
    },
    "papermill": {
     "duration": 0.030176,
     "end_time": "2024-08-24T10:40:33.411254",
     "exception": false,
     "start_time": "2024-08-24T10:40:33.381078",
     "status": "completed"
    },
    "tags": []
   },
   "outputs": [
    {
     "data": {
      "text/html": [
       "<div>\n",
       "<style scoped>\n",
       "    .dataframe tbody tr th:only-of-type {\n",
       "        vertical-align: middle;\n",
       "    }\n",
       "\n",
       "    .dataframe tbody tr th {\n",
       "        vertical-align: top;\n",
       "    }\n",
       "\n",
       "    .dataframe thead th {\n",
       "        text-align: right;\n",
       "    }\n",
       "</style>\n",
       "<table border=\"1\" class=\"dataframe\">\n",
       "  <thead>\n",
       "    <tr style=\"text-align: right;\">\n",
       "      <th></th>\n",
       "      <th>text</th>\n",
       "      <th>target</th>\n",
       "    </tr>\n",
       "  </thead>\n",
       "  <tbody>\n",
       "    <tr>\n",
       "      <th>120</th>\n",
       "      <td>Can it be book 2 was better than one. Oh yeah ...</td>\n",
       "      <td>1</td>\n",
       "    </tr>\n",
       "    <tr>\n",
       "      <th>37778</th>\n",
       "      <td>A really nice band, but it has a wide band. I ...</td>\n",
       "      <td>0</td>\n",
       "    </tr>\n",
       "    <tr>\n",
       "      <th>31204</th>\n",
       "      <td>This was intended for my son's 3rd birthday. H...</td>\n",
       "      <td>0</td>\n",
       "    </tr>\n",
       "    <tr>\n",
       "      <th>16099</th>\n",
       "      <td>Love these crimpers. Adjustable crimp settings...</td>\n",
       "      <td>0</td>\n",
       "    </tr>\n",
       "    <tr>\n",
       "      <th>38834</th>\n",
       "      <td>This is the one flashlight you need for all oc...</td>\n",
       "      <td>1</td>\n",
       "    </tr>\n",
       "    <tr>\n",
       "      <th>30053</th>\n",
       "      <td>I bought these for my daughter's wedding.  She...</td>\n",
       "      <td>0</td>\n",
       "    </tr>\n",
       "    <tr>\n",
       "      <th>33246</th>\n",
       "      <td>The British TV series Midsomer Murders is diff...</td>\n",
       "      <td>1</td>\n",
       "    </tr>\n",
       "    <tr>\n",
       "      <th>38948</th>\n",
       "      <td>These are fantastic!! We've been able to DRAST...</td>\n",
       "      <td>1</td>\n",
       "    </tr>\n",
       "    <tr>\n",
       "      <th>39412</th>\n",
       "      <td>When the bags arrived I thought there was a mi...</td>\n",
       "      <td>1</td>\n",
       "    </tr>\n",
       "    <tr>\n",
       "      <th>39793</th>\n",
       "      <td>Good news! This not only works with PC and Mac...</td>\n",
       "      <td>1</td>\n",
       "    </tr>\n",
       "  </tbody>\n",
       "</table>\n",
       "</div>"
      ],
      "text/plain": [
       "                                                    text  target\n",
       "120    Can it be book 2 was better than one. Oh yeah ...       1\n",
       "37778  A really nice band, but it has a wide band. I ...       0\n",
       "31204  This was intended for my son's 3rd birthday. H...       0\n",
       "16099  Love these crimpers. Adjustable crimp settings...       0\n",
       "38834  This is the one flashlight you need for all oc...       1\n",
       "30053  I bought these for my daughter's wedding.  She...       0\n",
       "33246  The British TV series Midsomer Murders is diff...       1\n",
       "38948  These are fantastic!! We've been able to DRAST...       1\n",
       "39412  When the bags arrived I thought there was a mi...       1\n",
       "39793  Good news! This not only works with PC and Mac...       1"
      ]
     },
     "execution_count": 14,
     "metadata": {},
     "output_type": "execute_result"
    }
   ],
   "source": [
    "df = df.sample(frac=1).reset_index(drop=True)\n",
    "\n",
    "df.sample(10)"
   ]
  },
  {
   "cell_type": "code",
   "execution_count": 15,
   "id": "552294db",
   "metadata": {
    "execution": {
     "iopub.execute_input": "2024-08-24T10:40:33.438570Z",
     "iopub.status.busy": "2024-08-24T10:40:33.438250Z",
     "iopub.status.idle": "2024-08-24T10:40:33.449188Z",
     "shell.execute_reply": "2024-08-24T10:40:33.448265Z"
    },
    "papermill": {
     "duration": 0.02677,
     "end_time": "2024-08-24T10:40:33.451048",
     "exception": false,
     "start_time": "2024-08-24T10:40:33.424278",
     "status": "completed"
    },
    "tags": []
   },
   "outputs": [
    {
     "data": {
      "text/plain": [
       "text      0\n",
       "target    0\n",
       "dtype: int64"
      ]
     },
     "execution_count": 15,
     "metadata": {},
     "output_type": "execute_result"
    }
   ],
   "source": [
    "df.isnull().sum()"
   ]
  },
  {
   "cell_type": "code",
   "execution_count": 16,
   "id": "01942d33",
   "metadata": {
    "execution": {
     "iopub.execute_input": "2024-08-24T10:40:33.478452Z",
     "iopub.status.busy": "2024-08-24T10:40:33.478127Z",
     "iopub.status.idle": "2024-08-24T10:40:33.522356Z",
     "shell.execute_reply": "2024-08-24T10:40:33.521517Z"
    },
    "papermill": {
     "duration": 0.060104,
     "end_time": "2024-08-24T10:40:33.524274",
     "exception": false,
     "start_time": "2024-08-24T10:40:33.464170",
     "status": "completed"
    },
    "tags": []
   },
   "outputs": [
    {
     "data": {
      "text/plain": [
       "np.int64(20)"
      ]
     },
     "execution_count": 16,
     "metadata": {},
     "output_type": "execute_result"
    }
   ],
   "source": [
    "df.duplicated().sum()"
   ]
  },
  {
   "cell_type": "code",
   "execution_count": 17,
   "id": "4f74fb5f",
   "metadata": {
    "execution": {
     "iopub.execute_input": "2024-08-24T10:40:33.552356Z",
     "iopub.status.busy": "2024-08-24T10:40:33.551832Z",
     "iopub.status.idle": "2024-08-24T10:40:33.596123Z",
     "shell.execute_reply": "2024-08-24T10:40:33.595086Z"
    },
    "papermill": {
     "duration": 0.0609,
     "end_time": "2024-08-24T10:40:33.598500",
     "exception": false,
     "start_time": "2024-08-24T10:40:33.537600",
     "status": "completed"
    },
    "tags": []
   },
   "outputs": [],
   "source": [
    "df.drop_duplicates(inplace = True)"
   ]
  },
  {
   "cell_type": "code",
   "execution_count": 18,
   "id": "2708ee5e",
   "metadata": {
    "execution": {
     "iopub.execute_input": "2024-08-24T10:40:33.626999Z",
     "iopub.status.busy": "2024-08-24T10:40:33.626683Z",
     "iopub.status.idle": "2024-08-24T10:40:33.669684Z",
     "shell.execute_reply": "2024-08-24T10:40:33.668834Z"
    },
    "papermill": {
     "duration": 0.059541,
     "end_time": "2024-08-24T10:40:33.671526",
     "exception": false,
     "start_time": "2024-08-24T10:40:33.611985",
     "status": "completed"
    },
    "tags": []
   },
   "outputs": [
    {
     "data": {
      "text/plain": [
       "np.int64(0)"
      ]
     },
     "execution_count": 18,
     "metadata": {},
     "output_type": "execute_result"
    }
   ],
   "source": [
    "df.duplicated().sum()"
   ]
  },
  {
   "cell_type": "code",
   "execution_count": 19,
   "id": "efe2b5c3",
   "metadata": {
    "execution": {
     "iopub.execute_input": "2024-08-24T10:40:33.699759Z",
     "iopub.status.busy": "2024-08-24T10:40:33.699459Z",
     "iopub.status.idle": "2024-08-24T10:40:33.707869Z",
     "shell.execute_reply": "2024-08-24T10:40:33.707020Z"
    },
    "papermill": {
     "duration": 0.024731,
     "end_time": "2024-08-24T10:40:33.709960",
     "exception": false,
     "start_time": "2024-08-24T10:40:33.685229",
     "status": "completed"
    },
    "tags": []
   },
   "outputs": [
    {
     "data": {
      "text/plain": [
       "target\n",
       "1    20215\n",
       "0    20197\n",
       "Name: count, dtype: int64"
      ]
     },
     "execution_count": 19,
     "metadata": {},
     "output_type": "execute_result"
    }
   ],
   "source": [
    "df['target'].value_counts()"
   ]
  },
  {
   "cell_type": "code",
   "execution_count": 20,
   "id": "4cd9e906",
   "metadata": {
    "execution": {
     "iopub.execute_input": "2024-08-24T10:40:33.738165Z",
     "iopub.status.busy": "2024-08-24T10:40:33.737894Z",
     "iopub.status.idle": "2024-08-24T10:40:33.882269Z",
     "shell.execute_reply": "2024-08-24T10:40:33.881327Z"
    },
    "papermill": {
     "duration": 0.161557,
     "end_time": "2024-08-24T10:40:33.885181",
     "exception": false,
     "start_time": "2024-08-24T10:40:33.723624",
     "status": "completed"
    },
    "tags": []
   },
   "outputs": [
    {
     "data": {
      "image/png": "[encoded data removed]",
      "text/plain": [
       "<Figure size 640x480 with 1 Axes>"
      ]
     },
     "metadata": {},
     "output_type": "display_data"
    }
   ],
   "source": [
    "plt.pie(df['target'].value_counts(), labels=['Original', 'fake'],autopct=\"%0.2f\")\n",
    "plt.show()"
   ]
  },
  {
   "cell_type": "code",
   "execution_count": 21,
   "id": "ce62def3",
   "metadata": {
    "execution": {
     "iopub.execute_input": "2024-08-24T10:40:33.949341Z",
     "iopub.status.busy": "2024-08-24T10:40:33.948770Z",
     "iopub.status.idle": "2024-08-24T10:41:19.844266Z",
     "shell.execute_reply": "2024-08-24T10:41:19.843455Z"
    },
    "papermill": {
     "duration": 45.930498,
     "end_time": "2024-08-24T10:41:19.846623",
     "exception": false,
     "start_time": "2024-08-24T10:40:33.916125",
     "status": "completed"
    },
    "tags": []
   },
   "outputs": [
    {
     "name": "stderr",
     "output_type": "stream",
     "text": [
      "[nltk_data] Downloading package punkt to\n",
      "[nltk_data]     C:\\Users\\Admin\\AppData\\Roaming\\nltk_data...\n",
      "[nltk_data]   Package punkt is already up-to-date!\n"
     ]
    }
   ],
   "source": [
    "import nltk\n",
    "nltk.download('punkt')\n",
    "df['num_characters'] = df['text'].apply(len)\n",
    "df['num_words'] = df['text'].apply(lambda x:len(nltk.word_tokenize(x)))\n",
    "df['num_sentences'] = df['text'].apply(lambda x:len(nltk.sent_tokenize(x)))"
   ]
  },
  {
   "cell_type": "code",
   "execution_count": 22,
   "id": "a9982d09",
   "metadata": {
    "execution": {
     "iopub.execute_input": "2024-08-24T10:41:19.876762Z",
     "iopub.status.busy": "2024-08-24T10:41:19.876396Z",
     "iopub.status.idle": "2024-08-24T10:41:19.886755Z",
     "shell.execute_reply": "2024-08-24T10:41:19.885939Z"
    },
    "papermill": {
     "duration": 0.027864,
     "end_time": "2024-08-24T10:41:19.888752",
     "exception": false,
     "start_time": "2024-08-24T10:41:19.860888",
     "status": "completed"
    },
    "tags": []
   },
   "outputs": [
    {
     "data": {
      "text/html": [
       "<div>\n",
       "<style scoped>\n",
       "    .dataframe tbody tr th:only-of-type {\n",
       "        vertical-align: middle;\n",
       "    }\n",
       "\n",
       "    .dataframe tbody tr th {\n",
       "        vertical-align: top;\n",
       "    }\n",
       "\n",
       "    .dataframe thead th {\n",
       "        text-align: right;\n",
       "    }\n",
       "</style>\n",
       "<table border=\"1\" class=\"dataframe\">\n",
       "  <thead>\n",
       "    <tr style=\"text-align: right;\">\n",
       "      <th></th>\n",
       "      <th>text</th>\n",
       "      <th>target</th>\n",
       "      <th>num_characters</th>\n",
       "      <th>num_words</th>\n",
       "      <th>num_sentences</th>\n",
       "    </tr>\n",
       "  </thead>\n",
       "  <tbody>\n",
       "    <tr>\n",
       "      <th>0</th>\n",
       "      <td>These are pretty nice sheets.  They are lightw...</td>\n",
       "      <td>0</td>\n",
       "      <td>380</td>\n",
       "      <td>77</td>\n",
       "      <td>6</td>\n",
       "    </tr>\n",
       "    <tr>\n",
       "      <th>1</th>\n",
       "      <td>My dog loves this and the price was perfect.  ...</td>\n",
       "      <td>1</td>\n",
       "      <td>83</td>\n",
       "      <td>19</td>\n",
       "      <td>2</td>\n",
       "    </tr>\n",
       "    <tr>\n",
       "      <th>2</th>\n",
       "      <td>A different kind of detective, an investigator...</td>\n",
       "      <td>0</td>\n",
       "      <td>299</td>\n",
       "      <td>65</td>\n",
       "      <td>8</td>\n",
       "    </tr>\n",
       "    <tr>\n",
       "      <th>3</th>\n",
       "      <td>I really wanted to like these glasses but coul...</td>\n",
       "      <td>1</td>\n",
       "      <td>279</td>\n",
       "      <td>55</td>\n",
       "      <td>2</td>\n",
       "    </tr>\n",
       "    <tr>\n",
       "      <th>4</th>\n",
       "      <td>Everything about this was awesome!  I couldn't...</td>\n",
       "      <td>0</td>\n",
       "      <td>1261</td>\n",
       "      <td>304</td>\n",
       "      <td>47</td>\n",
       "    </tr>\n",
       "  </tbody>\n",
       "</table>\n",
       "</div>"
      ],
      "text/plain": [
       "                                                text  target  num_characters  \\\n",
       "0  These are pretty nice sheets.  They are lightw...       0             380   \n",
       "1  My dog loves this and the price was perfect.  ...       1              83   \n",
       "2  A different kind of detective, an investigator...       0             299   \n",
       "3  I really wanted to like these glasses but coul...       1             279   \n",
       "4  Everything about this was awesome!  I couldn't...       0            1261   \n",
       "\n",
       "   num_words  num_sentences  \n",
       "0         77              6  \n",
       "1         19              2  \n",
       "2         65              8  \n",
       "3         55              2  \n",
       "4        304             47  "
      ]
     },
     "execution_count": 22,
     "metadata": {},
     "output_type": "execute_result"
    }
   ],
   "source": [
    "df.head()"
   ]
  },
  {
   "cell_type": "code",
   "execution_count": null,
   "id": "c66bb8ec",
   "metadata": {},
   "outputs": [],
   "source": []
  },
  {
   "cell_type": "code",
   "execution_count": 23,
   "id": "9b4df74f",
   "metadata": {
    "execution": {
     "iopub.execute_input": "2024-08-24T10:41:19.917835Z",
     "iopub.status.busy": "2024-08-24T10:41:19.917520Z",
     "iopub.status.idle": "2024-08-24T10:41:20.041917Z",
     "shell.execute_reply": "2024-08-24T10:41:20.040973Z"
    },
    "papermill": {
     "duration": 0.14138,
     "end_time": "2024-08-24T10:41:20.044101",
     "exception": false,
     "start_time": "2024-08-24T10:41:19.902721",
     "status": "completed"
    },
    "tags": []
   },
   "outputs": [
    {
     "data": {
      "text/html": [
       "<div>\n",
       "<style scoped>\n",
       "    .dataframe tbody tr th:only-of-type {\n",
       "        vertical-align: middle;\n",
       "    }\n",
       "\n",
       "    .dataframe tbody tr th {\n",
       "        vertical-align: top;\n",
       "    }\n",
       "\n",
       "    .dataframe thead th {\n",
       "        text-align: right;\n",
       "    }\n",
       "</style>\n",
       "<table border=\"1\" class=\"dataframe\">\n",
       "  <thead>\n",
       "    <tr style=\"text-align: right;\">\n",
       "      <th></th>\n",
       "      <th>target</th>\n",
       "      <th>num_characters</th>\n",
       "      <th>num_words</th>\n",
       "      <th>num_sentences</th>\n",
       "    </tr>\n",
       "  </thead>\n",
       "  <tbody>\n",
       "    <tr>\n",
       "      <th>count</th>\n",
       "      <td>40412.000000</td>\n",
       "      <td>40412.000000</td>\n",
       "      <td>40412.000000</td>\n",
       "      <td>40412.000000</td>\n",
       "    </tr>\n",
       "    <tr>\n",
       "      <th>mean</th>\n",
       "      <td>0.500223</td>\n",
       "      <td>351.365337</td>\n",
       "      <td>76.691131</td>\n",
       "      <td>5.277071</td>\n",
       "    </tr>\n",
       "    <tr>\n",
       "      <th>std</th>\n",
       "      <td>0.500006</td>\n",
       "      <td>369.871842</td>\n",
       "      <td>79.242859</td>\n",
       "      <td>4.915033</td>\n",
       "    </tr>\n",
       "    <tr>\n",
       "      <th>min</th>\n",
       "      <td>0.000000</td>\n",
       "      <td>24.000000</td>\n",
       "      <td>2.000000</td>\n",
       "      <td>1.000000</td>\n",
       "    </tr>\n",
       "    <tr>\n",
       "      <th>25%</th>\n",
       "      <td>0.000000</td>\n",
       "      <td>107.000000</td>\n",
       "      <td>24.000000</td>\n",
       "      <td>2.000000</td>\n",
       "    </tr>\n",
       "    <tr>\n",
       "      <th>50%</th>\n",
       "      <td>1.000000</td>\n",
       "      <td>198.000000</td>\n",
       "      <td>44.000000</td>\n",
       "      <td>3.000000</td>\n",
       "    </tr>\n",
       "    <tr>\n",
       "      <th>75%</th>\n",
       "      <td>1.000000</td>\n",
       "      <td>439.000000</td>\n",
       "      <td>96.000000</td>\n",
       "      <td>6.000000</td>\n",
       "    </tr>\n",
       "    <tr>\n",
       "      <th>max</th>\n",
       "      <td>1.000000</td>\n",
       "      <td>2827.000000</td>\n",
       "      <td>510.000000</td>\n",
       "      <td>133.000000</td>\n",
       "    </tr>\n",
       "  </tbody>\n",
       "</table>\n",
       "</div>"
      ],
      "text/plain": [
       "             target  num_characters     num_words  num_sentences\n",
       "count  40412.000000    40412.000000  40412.000000   40412.000000\n",
       "mean       0.500223      351.365337     76.691131       5.277071\n",
       "std        0.500006      369.871842     79.242859       4.915033\n",
       "min        0.000000       24.000000      2.000000       1.000000\n",
       "25%        0.000000      107.000000     24.000000       2.000000\n",
       "50%        1.000000      198.000000     44.000000       3.000000\n",
       "75%        1.000000      439.000000     96.000000       6.000000\n",
       "max        1.000000     2827.000000    510.000000     133.000000"
      ]
     },
     "execution_count": 23,
     "metadata": {},
     "output_type": "execute_result"
    }
   ],
   "source": [
    "df.describe()"
   ]
  },
  {
   "cell_type": "code",
   "execution_count": 25,
   "id": "85855751",
   "metadata": {
    "execution": {
     "iopub.execute_input": "2024-08-24T10:41:42.619045Z",
     "iopub.status.busy": "2024-08-24T10:41:42.618716Z",
     "iopub.status.idle": "2024-08-24T10:41:42.883416Z",
     "shell.execute_reply": "2024-08-24T10:41:42.882591Z"
    },
    "papermill": {
     "duration": 0.28468,
     "end_time": "2024-08-24T10:41:42.885514",
     "exception": false,
     "start_time": "2024-08-24T10:41:42.600834",
     "status": "completed"
    },
    "tags": []
   },
   "outputs": [
    {
     "data": {
      "text/plain": [
       "<Axes: >"
      ]
     },
     "execution_count": 25,
     "metadata": {},
     "output_type": "execute_result"
    },
    {
     "data": {
      "image/png": "[encoded data removed]",
      "text/plain": [
       "<Figure size 640x480 with 2 Axes>"
      ]
     },
     "metadata": {},
     "output_type": "display_data"
    }
   ],
   "source": [
    "df_numeric = df.select_dtypes(include = 'number')\n",
    "sns.heatmap(df_numeric.corr(),annot=True)"
   ]
  },
  {
   "cell_type": "code",
   "execution_count": 26,
   "id": "6ead7f06",
   "metadata": {
    "execution": {
     "iopub.execute_input": "2024-08-24T10:41:42.922453Z",
     "iopub.status.busy": "2024-08-24T10:41:42.921826Z",
     "iopub.status.idle": "2024-08-24T10:41:42.925782Z",
     "shell.execute_reply": "2024-08-24T10:41:42.924889Z"
    },
    "papermill": {
     "duration": 0.024425,
     "end_time": "2024-08-24T10:41:42.927680",
     "exception": false,
     "start_time": "2024-08-24T10:41:42.903255",
     "status": "completed"
    },
    "tags": []
   },
   "outputs": [],
   "source": [
    "ps = PorterStemmer()"
   ]
  },
  {
   "cell_type": "code",
   "execution_count": 27,
   "id": "88b96d55",
   "metadata": {
    "execution": {
     "iopub.execute_input": "2024-08-24T10:41:42.963565Z",
     "iopub.status.busy": "2024-08-24T10:41:42.963284Z",
     "iopub.status.idle": "2024-08-24T10:41:42.969524Z",
     "shell.execute_reply": "2024-08-24T10:41:42.968699Z"
    },
    "papermill": {
     "duration": 0.026262,
     "end_time": "2024-08-24T10:41:42.971427",
     "exception": false,
     "start_time": "2024-08-24T10:41:42.945165",
     "status": "completed"
    },
    "tags": []
   },
   "outputs": [],
   "source": [
    "def transform_text(text):\n",
    "    text = text.lower()\n",
    "    text = nltk.word_tokenize(text)\n",
    "    \n",
    "    y = []\n",
    "    for i in text:\n",
    "        if i.isalnum():\n",
    "            y.append(i)\n",
    "    \n",
    "    text = y[:]\n",
    "    y.clear()\n",
    "    \n",
    "    for i in text:\n",
    "        if i not in stopwords.words('english') and i not in string.punctuation:\n",
    "            y.append(i)\n",
    "            \n",
    "    text = y[:]\n",
    "    y.clear()\n",
    "    \n",
    "    for i in text:\n",
    "        y.append(ps.stem(i))\n",
    "    \n",
    "            \n",
    "    return \" \".join(y)"
   ]
  },
  {
   "cell_type": "code",
   "execution_count": 28,
   "id": "7f782af0",
   "metadata": {
    "execution": {
     "iopub.execute_input": "2024-08-24T10:41:43.007542Z",
     "iopub.status.busy": "2024-08-24T10:41:43.007256Z",
     "iopub.status.idle": "2024-08-24T10:41:43.020434Z",
     "shell.execute_reply": "2024-08-24T10:41:43.019619Z"
    },
    "papermill": {
     "duration": 0.033455,
     "end_time": "2024-08-24T10:41:43.022312",
     "exception": false,
     "start_time": "2024-08-24T10:41:42.988857",
     "status": "completed"
    },
    "tags": []
   },
   "outputs": [
    {
     "data": {
      "text/plain": [
       "'gon na home soon want talk stuff anymor tonight k cri enough today'"
      ]
     },
     "execution_count": 28,
     "metadata": {},
     "output_type": "execute_result"
    }
   ],
   "source": [
    "transform_text(\"I'm gonna be home soon and i don't want to talk about this stuff anymore tonight, k? I've cried enough today.\")"
   ]
  },
  {
   "cell_type": "code",
   "execution_count": 29,
   "id": "a8c526c8",
   "metadata": {
    "execution": {
     "iopub.execute_input": "2024-08-24T10:41:43.058687Z",
     "iopub.status.busy": "2024-08-24T10:41:43.058373Z",
     "iopub.status.idle": "2024-08-24T10:48:24.452425Z",
     "shell.execute_reply": "2024-08-24T10:48:24.451578Z"
    },
    "papermill": {
     "duration": 401.415113,
     "end_time": "2024-08-24T10:48:24.454985",
     "exception": false,
     "start_time": "2024-08-24T10:41:43.039872",
     "status": "completed"
    },
    "tags": []
   },
   "outputs": [],
   "source": [
    "df['transformed_text'] = df['text'].apply(transform_text)"
   ]
  },
  {
   "cell_type": "code",
   "execution_count": 30,
   "id": "fc224fcc",
   "metadata": {
    "execution": {
     "iopub.execute_input": "2024-08-24T10:48:24.492434Z",
     "iopub.status.busy": "2024-08-24T10:48:24.492073Z",
     "iopub.status.idle": "2024-08-24T10:48:24.503405Z",
     "shell.execute_reply": "2024-08-24T10:48:24.502571Z"
    },
    "papermill": {
     "duration": 0.031886,
     "end_time": "2024-08-24T10:48:24.505273",
     "exception": false,
     "start_time": "2024-08-24T10:48:24.473387",
     "status": "completed"
    },
    "tags": []
   },
   "outputs": [
    {
     "data": {
      "text/html": [
       "<div>\n",
       "<style scoped>\n",
       "    .dataframe tbody tr th:only-of-type {\n",
       "        vertical-align: middle;\n",
       "    }\n",
       "\n",
       "    .dataframe tbody tr th {\n",
       "        vertical-align: top;\n",
       "    }\n",
       "\n",
       "    .dataframe thead th {\n",
       "        text-align: right;\n",
       "    }\n",
       "</style>\n",
       "<table border=\"1\" class=\"dataframe\">\n",
       "  <thead>\n",
       "    <tr style=\"text-align: right;\">\n",
       "      <th></th>\n",
       "      <th>text</th>\n",
       "      <th>target</th>\n",
       "      <th>num_characters</th>\n",
       "      <th>num_words</th>\n",
       "      <th>num_sentences</th>\n",
       "      <th>transformed_text</th>\n",
       "    </tr>\n",
       "  </thead>\n",
       "  <tbody>\n",
       "    <tr>\n",
       "      <th>0</th>\n",
       "      <td>These are pretty nice sheets.  They are lightw...</td>\n",
       "      <td>0</td>\n",
       "      <td>380</td>\n",
       "      <td>77</td>\n",
       "      <td>6</td>\n",
       "      <td>pretti nice sheet lightweight comfort also lik...</td>\n",
       "    </tr>\n",
       "    <tr>\n",
       "      <th>1</th>\n",
       "      <td>My dog loves this and the price was perfect.  ...</td>\n",
       "      <td>1</td>\n",
       "      <td>83</td>\n",
       "      <td>19</td>\n",
       "      <td>2</td>\n",
       "      <td>dog love price perfect appear healthi food</td>\n",
       "    </tr>\n",
       "    <tr>\n",
       "      <th>2</th>\n",
       "      <td>A different kind of detective, an investigator...</td>\n",
       "      <td>0</td>\n",
       "      <td>299</td>\n",
       "      <td>65</td>\n",
       "      <td>8</td>\n",
       "      <td>differ kind detect investig sens mysteri movi ...</td>\n",
       "    </tr>\n",
       "    <tr>\n",
       "      <th>3</th>\n",
       "      <td>I really wanted to like these glasses but coul...</td>\n",
       "      <td>1</td>\n",
       "      <td>279</td>\n",
       "      <td>55</td>\n",
       "      <td>2</td>\n",
       "      <td>realli want like glass could keep head long en...</td>\n",
       "    </tr>\n",
       "    <tr>\n",
       "      <th>4</th>\n",
       "      <td>Everything about this was awesome!  I couldn't...</td>\n",
       "      <td>0</td>\n",
       "      <td>1261</td>\n",
       "      <td>304</td>\n",
       "      <td>47</td>\n",
       "      <td>everyth awesom could put want go bed want put ...</td>\n",
       "    </tr>\n",
       "  </tbody>\n",
       "</table>\n",
       "</div>"
      ],
      "text/plain": [
       "                                                text  target  num_characters  \\\n",
       "0  These are pretty nice sheets.  They are lightw...       0             380   \n",
       "1  My dog loves this and the price was perfect.  ...       1              83   \n",
       "2  A different kind of detective, an investigator...       0             299   \n",
       "3  I really wanted to like these glasses but coul...       1             279   \n",
       "4  Everything about this was awesome!  I couldn't...       0            1261   \n",
       "\n",
       "   num_words  num_sentences                                   transformed_text  \n",
       "0         77              6  pretti nice sheet lightweight comfort also lik...  \n",
       "1         19              2         dog love price perfect appear healthi food  \n",
       "2         65              8  differ kind detect investig sens mysteri movi ...  \n",
       "3         55              2  realli want like glass could keep head long en...  \n",
       "4        304             47  everyth awesom could put want go bed want put ...  "
      ]
     },
     "execution_count": 30,
     "metadata": {},
     "output_type": "execute_result"
    }
   ],
   "source": [
    "df.head()"
   ]
  },
  {
   "cell_type": "code",
   "execution_count": 33,
   "id": "02584f89",
   "metadata": {
    "execution": {
     "iopub.execute_input": "2024-08-24T10:48:36.018056Z",
     "iopub.status.busy": "2024-08-24T10:48:36.017722Z",
     "iopub.status.idle": "2024-08-24T10:48:38.479168Z",
     "shell.execute_reply": "2024-08-24T10:48:38.478359Z"
    },
    "papermill": {
     "duration": 2.488106,
     "end_time": "2024-08-24T10:48:38.481605",
     "exception": false,
     "start_time": "2024-08-24T10:48:35.993499",
     "status": "completed"
    },
    "tags": []
   },
   "outputs": [],
   "source": [
    "tfidf = TfidfVectorizer(max_features=3000)\n",
    "X = tfidf.fit_transform(df['transformed_text']).toarray()\n",
    "y = df['target'].values"
   ]
  },
  {
   "cell_type": "code",
   "execution_count": 34,
   "id": "e9cbe3f3",
   "metadata": {
    "execution": {
     "iopub.execute_input": "2024-08-24T10:48:38.529946Z",
     "iopub.status.busy": "2024-08-24T10:48:38.529597Z",
     "iopub.status.idle": "2024-08-24T10:48:38.534229Z",
     "shell.execute_reply": "2024-08-24T10:48:38.533390Z"
    },
    "papermill": {
     "duration": 0.03085,
     "end_time": "2024-08-24T10:48:38.536284",
     "exception": false,
     "start_time": "2024-08-24T10:48:38.505434",
     "status": "completed"
    },
    "tags": []
   },
   "outputs": [
    {
     "name": "stdout",
     "output_type": "stream",
     "text": [
      "(40412, 3000)\n",
      "(40412,)\n"
     ]
    }
   ],
   "source": [
    "print(X.shape)\n",
    "print(y.shape)"
   ]
  },
  {
   "cell_type": "code",
   "execution_count": 35,
   "id": "547b6b29",
   "metadata": {
    "execution": {
     "iopub.execute_input": "2024-08-24T10:48:38.585298Z",
     "iopub.status.busy": "2024-08-24T10:48:38.584569Z",
     "iopub.status.idle": "2024-08-24T10:48:38.917735Z",
     "shell.execute_reply": "2024-08-24T10:48:38.916691Z"
    },
    "papermill": {
     "duration": 0.360678,
     "end_time": "2024-08-24T10:48:38.920235",
     "exception": false,
     "start_time": "2024-08-24T10:48:38.559557",
     "status": "completed"
    },
    "tags": []
   },
   "outputs": [],
   "source": [
    "X_train,X_test,y_train,y_test = train_test_split(X,y,test_size=0.2,random_state=32)"
   ]
  },
  {
   "cell_type": "code",
   "execution_count": 36,
   "id": "87e19bb8",
   "metadata": {
    "execution": {
     "iopub.execute_input": "2024-08-24T10:48:38.970022Z",
     "iopub.status.busy": "2024-08-24T10:48:38.969334Z",
     "iopub.status.idle": "2024-08-24T10:48:38.975020Z",
     "shell.execute_reply": "2024-08-24T10:48:38.974130Z"
    },
    "papermill": {
     "duration": 0.032277,
     "end_time": "2024-08-24T10:48:38.976961",
     "exception": false,
     "start_time": "2024-08-24T10:48:38.944684",
     "status": "completed"
    },
    "tags": []
   },
   "outputs": [],
   "source": [
    "knc = KNeighborsClassifier()\n",
    "mnb = MultinomialNB()\n",
    "dtc = DecisionTreeClassifier(max_depth=5)\n",
    "lrc = LogisticRegression(solver='liblinear', penalty='l1')\n",
    "rfc = RandomForestClassifier(n_estimators=50, random_state=2)\n",
    "abc = AdaBoostClassifier(n_estimators=50, random_state=2)\n",
    "xgb = XGBClassifier(n_estimators=50,random_state=2)"
   ]
  },
  {
   "cell_type": "code",
   "execution_count": 37,
   "id": "40e2bfe5",
   "metadata": {
    "execution": {
     "iopub.execute_input": "2024-08-24T10:48:39.025379Z",
     "iopub.status.busy": "2024-08-24T10:48:39.024855Z",
     "iopub.status.idle": "2024-08-24T10:48:39.029362Z",
     "shell.execute_reply": "2024-08-24T10:48:39.028520Z"
    },
    "papermill": {
     "duration": 0.030892,
     "end_time": "2024-08-24T10:48:39.031167",
     "exception": false,
     "start_time": "2024-08-24T10:48:39.000275",
     "status": "completed"
    },
    "tags": []
   },
   "outputs": [],
   "source": [
    "clfs = {\n",
    "    'KN' : knc, \n",
    "    'NB': mnb, \n",
    "    'DT': dtc, \n",
    "    'LR': lrc, \n",
    "    'RF': rfc, \n",
    "    'AdaBoost': abc, \n",
    "    'xgb':xgb\n",
    "}"
   ]
  },
  {
   "cell_type": "code",
   "execution_count": 38,
   "id": "0cbbbb46",
   "metadata": {
    "execution": {
     "iopub.execute_input": "2024-08-24T10:48:39.117127Z",
     "iopub.status.busy": "2024-08-24T10:48:39.116416Z",
     "iopub.status.idle": "2024-08-24T10:48:39.121744Z",
     "shell.execute_reply": "2024-08-24T10:48:39.120866Z"
    },
    "papermill": {
     "duration": 0.069276,
     "end_time": "2024-08-24T10:48:39.123628",
     "exception": false,
     "start_time": "2024-08-24T10:48:39.054352",
     "status": "completed"
    },
    "tags": []
   },
   "outputs": [],
   "source": [
    "def train_classifier(clf,X_train,y_train,X_test,y_test):\n",
    "    clf.fit(X_train,y_train)\n",
    "    y_pred = clf.predict(X_test)\n",
    "    accuracy = accuracy_score(y_test,y_pred)\n",
    "    precision = precision_score(y_test, y_pred, average='weighted')\n",
    "    \n",
    "    return accuracy,precision"
   ]
  },
  {
   "cell_type": "code",
   "execution_count": 39,
   "id": "973c6fad",
   "metadata": {
    "execution": {
     "iopub.execute_input": "2024-08-24T10:48:39.173059Z",
     "iopub.status.busy": "2024-08-24T10:48:39.172712Z",
     "iopub.status.idle": "2024-08-24T10:51:17.381879Z",
     "shell.execute_reply": "2024-08-24T10:51:17.380974Z"
    },
    "papermill": {
     "duration": 158.236713,
     "end_time": "2024-08-24T10:51:17.384445",
     "exception": false,
     "start_time": "2024-08-24T10:48:39.147732",
     "status": "completed"
    },
    "tags": []
   },
   "outputs": [],
   "source": [
    "accuracy_scores = []\n",
    "precision_scores = []\n",
    "\n",
    "for name,clf in clfs.items():    \n",
    "    current_accuracy,current_precision = train_classifier(clf, X_train,y_train,X_test,y_test)\n",
    "    \n",
    "    accuracy_scores.append(current_accuracy)\n",
    "    precision_scores.append(current_precision)"
   ]
  },
  {
   "cell_type": "code",
   "execution_count": 40,
   "id": "1ef05601",
   "metadata": {
    "execution": {
     "iopub.execute_input": "2024-08-24T10:51:17.435072Z",
     "iopub.status.busy": "2024-08-24T10:51:17.434761Z",
     "iopub.status.idle": "2024-08-24T10:51:17.440925Z",
     "shell.execute_reply": "2024-08-24T10:51:17.440047Z"
    },
    "papermill": {
     "duration": 0.032961,
     "end_time": "2024-08-24T10:51:17.442950",
     "exception": false,
     "start_time": "2024-08-24T10:51:17.409989",
     "status": "completed"
    },
    "tags": []
   },
   "outputs": [],
   "source": [
    "performance_df = pd.DataFrame({'Algorithm':clfs.keys(),'Accuracy':accuracy_scores,'Precision':precision_scores}).sort_values('Precision',ascending=False)"
   ]
  },
  {
   "cell_type": "code",
   "execution_count": 41,
   "id": "984d8aed",
   "metadata": {
    "execution": {
     "iopub.execute_input": "2024-08-24T10:51:17.490897Z",
     "iopub.status.busy": "2024-08-24T10:51:17.490575Z",
     "iopub.status.idle": "2024-08-24T10:51:17.501016Z",
     "shell.execute_reply": "2024-08-24T10:51:17.500172Z"
    },
    "papermill": {
     "duration": 0.036828,
     "end_time": "2024-08-24T10:51:17.503006",
     "exception": false,
     "start_time": "2024-08-24T10:51:17.466178",
     "status": "completed"
    },
    "tags": []
   },
   "outputs": [
    {
     "data": {
      "text/html": [
       "<div>\n",
       "<style scoped>\n",
       "    .dataframe tbody tr th:only-of-type {\n",
       "        vertical-align: middle;\n",
       "    }\n",
       "\n",
       "    .dataframe tbody tr th {\n",
       "        vertical-align: top;\n",
       "    }\n",
       "\n",
       "    .dataframe thead th {\n",
       "        text-align: right;\n",
       "    }\n",
       "</style>\n",
       "<table border=\"1\" class=\"dataframe\">\n",
       "  <thead>\n",
       "    <tr style=\"text-align: right;\">\n",
       "      <th></th>\n",
       "      <th>Algorithm</th>\n",
       "      <th>Accuracy</th>\n",
       "      <th>Precision</th>\n",
       "    </tr>\n",
       "  </thead>\n",
       "  <tbody>\n",
       "    <tr>\n",
       "      <th>0</th>\n",
       "      <td>LR</td>\n",
       "      <td>0.847705</td>\n",
       "      <td>0.847743</td>\n",
       "    </tr>\n",
       "    <tr>\n",
       "      <th>1</th>\n",
       "      <td>NB</td>\n",
       "      <td>0.832735</td>\n",
       "      <td>0.833123</td>\n",
       "    </tr>\n",
       "    <tr>\n",
       "      <th>2</th>\n",
       "      <td>RF</td>\n",
       "      <td>0.828034</td>\n",
       "      <td>0.828774</td>\n",
       "    </tr>\n",
       "    <tr>\n",
       "      <th>3</th>\n",
       "      <td>xgb</td>\n",
       "      <td>0.807745</td>\n",
       "      <td>0.809393</td>\n",
       "    </tr>\n",
       "    <tr>\n",
       "      <th>4</th>\n",
       "      <td>AdaBoost</td>\n",
       "      <td>0.679822</td>\n",
       "      <td>0.680599</td>\n",
       "    </tr>\n",
       "    <tr>\n",
       "      <th>5</th>\n",
       "      <td>DT</td>\n",
       "      <td>0.580478</td>\n",
       "      <td>0.631723</td>\n",
       "    </tr>\n",
       "    <tr>\n",
       "      <th>6</th>\n",
       "      <td>KN</td>\n",
       "      <td>0.505753</td>\n",
       "      <td>0.538984</td>\n",
       "    </tr>\n",
       "  </tbody>\n",
       "</table>\n",
       "</div>"
      ],
      "text/plain": [
       "  Algorithm  Accuracy  Precision\n",
       "0        LR  0.847705   0.847743\n",
       "1        NB  0.832735   0.833123\n",
       "2        RF  0.828034   0.828774\n",
       "3       xgb  0.807745   0.809393\n",
       "4  AdaBoost  0.679822   0.680599\n",
       "5        DT  0.580478   0.631723\n",
       "6        KN  0.505753   0.538984"
      ]
     },
     "execution_count": 41,
     "metadata": {},
     "output_type": "execute_result"
    }
   ],
   "source": [
    "performance_df.reset_index(drop = True)"
   ]
  },
  {
   "cell_type": "code",
   "execution_count": 42,
   "id": "48d7b3cf",
   "metadata": {
    "execution": {
     "iopub.execute_input": "2024-08-24T10:51:17.552577Z",
     "iopub.status.busy": "2024-08-24T10:51:17.551865Z",
     "iopub.status.idle": "2024-08-24T10:51:17.556452Z",
     "shell.execute_reply": "2024-08-24T10:51:17.555667Z"
    },
    "papermill": {
     "duration": 0.030994,
     "end_time": "2024-08-24T10:51:17.558333",
     "exception": false,
     "start_time": "2024-08-24T10:51:17.527339",
     "status": "completed"
    },
    "tags": []
   },
   "outputs": [],
   "source": [
    "mnb = MultinomialNB()\n",
    "lrc = LogisticRegression(solver='liblinear', penalty='l1')\n",
    "rfc = RandomForestClassifier(n_estimators=50, random_state=2)"
   ]
  },
  {
   "cell_type": "code",
   "execution_count": 43,
   "id": "c2cf26c9",
   "metadata": {
    "execution": {
     "iopub.execute_input": "2024-08-24T10:51:17.606802Z",
     "iopub.status.busy": "2024-08-24T10:51:17.606475Z",
     "iopub.status.idle": "2024-08-24T10:51:17.610886Z",
     "shell.execute_reply": "2024-08-24T10:51:17.610042Z"
    },
    "papermill": {
     "duration": 0.031145,
     "end_time": "2024-08-24T10:51:17.612831",
     "exception": false,
     "start_time": "2024-08-24T10:51:17.581686",
     "status": "completed"
    },
    "tags": []
   },
   "outputs": [],
   "source": [
    "voting = VotingClassifier(estimators=[('LR', lrc), ('nb', mnb), ('RF', rfc)],voting='soft')"
   ]
  },
  {
   "cell_type": "code",
   "execution_count": 44,
   "id": "a1b13631",
   "metadata": {
    "execution": {
     "iopub.execute_input": "2024-08-24T10:51:17.660859Z",
     "iopub.status.busy": "2024-08-24T10:51:17.660568Z",
     "iopub.status.idle": "2024-08-24T10:51:50.012985Z",
     "shell.execute_reply": "2024-08-24T10:51:50.012085Z"
    },
    "papermill": {
     "duration": 32.404467,
     "end_time": "2024-08-24T10:51:50.040786",
     "exception": false,
     "start_time": "2024-08-24T10:51:17.636319",
     "status": "completed"
    },
    "tags": []
   },
   "outputs": [
    {
     "data": {
      "text/html": [
       "<style>#sk-container-id-1 {\n",
       "  /* Definition of color scheme common for light and dark mode */\n",
       "  --sklearn-color-text: #000;\n",
       "  --sklearn-color-text-muted: #666;\n",
       "  --sklearn-color-line: gray;\n",
       "  /* Definition of color scheme for unfitted estimators */\n",
       "  --sklearn-color-unfitted-level-0: #fff5e6;\n",
       "  --sklearn-color-unfitted-level-1: #f6e4d2;\n",
       "  --sklearn-color-unfitted-level-2: #ffe0b3;\n",
       "  --sklearn-color-unfitted-level-3: chocolate;\n",
       "  /* Definition of color scheme for fitted estimators */\n",
       "  --sklearn-color-fitted-level-0: #f0f8ff;\n",
       "  --sklearn-color-fitted-level-1: #d4ebff;\n",
       "  --sklearn-color-fitted-level-2: #b3dbfd;\n",
       "  --sklearn-color-fitted-level-3: cornflowerblue;\n",
       "\n",
       "  /* Specific color for light theme */\n",
       "  --sklearn-color-text-on-default-background: var(--sg-text-color, var(--theme-code-foreground, var(--jp-content-font-color1, black)));\n",
       "  --sklearn-color-background: var(--sg-background-color, var(--theme-background, var(--jp-layout-color0, white)));\n",
       "  --sklearn-color-border-box: var(--sg-text-color, var(--theme-code-foreground, var(--jp-content-font-color1, black)));\n",
       "  --sklearn-color-icon: #696969;\n",
       "\n",
       "  @media (prefers-color-scheme: dark) {\n",
       "    /* Redefinition of color scheme for dark theme */\n",
       "    --sklearn-color-text-on-default-background: var(--sg-text-color, var(--theme-code-foreground, var(--jp-content-font-color1, white)));\n",
       "    --sklearn-color-background: var(--sg-background-color, var(--theme-background, var(--jp-layout-color0, #111)));\n",
       "    --sklearn-color-border-box: var(--sg-text-color, var(--theme-code-foreground, var(--jp-content-font-color1, white)));\n",
       "    --sklearn-color-icon: #878787;\n",
       "  }\n",
       "}\n",
       "\n",
       "#sk-container-id-1 {\n",
       "  color: var(--sklearn-color-text);\n",
       "}\n",
       "\n",
       "#sk-container-id-1 pre {\n",
       "  padding: 0;\n",
       "}\n",
       "\n",
       "#sk-container-id-1 input.sk-hidden--visually {\n",
       "  border: 0;\n",
       "  clip: rect(1px 1px 1px 1px);\n",
       "  clip: rect(1px, 1px, 1px, 1px);\n",
       "  height: 1px;\n",
       "  margin: -1px;\n",
       "  overflow: hidden;\n",
       "  padding: 0;\n",
       "  position: absolute;\n",
       "  width: 1px;\n",
       "}\n",
       "\n",
       "#sk-container-id-1 div.sk-dashed-wrapped {\n",
       "  border: 1px dashed var(--sklearn-color-line);\n",
       "  margin: 0 0.4em 0.5em 0.4em;\n",
       "  box-sizing: border-box;\n",
       "  padding-bottom: 0.4em;\n",
       "  background-color: var(--sklearn-color-background);\n",
       "}\n",
       "\n",
       "#sk-container-id-1 div.sk-container {\n",
       "  /* jupyter's `normalize.less` sets `[hidden] { display: none; }`\n",
       "     but bootstrap.min.css set `[hidden] { display: none !important; }`\n",
       "     so we also need the `!important` here to be able to override the\n",
       "     default hidden behavior on the sphinx rendered scikit-learn.org.\n",
       "     See: https://github.com/scikit-learn/scikit-learn/issues/21755 */\n",
       "  display: inline-block !important;\n",
       "  position: relative;\n",
       "}\n",
       "\n",
       "#sk-container-id-1 div.sk-text-repr-fallback {\n",
       "  display: none;\n",
       "}\n",
       "\n",
       "div.sk-parallel-item,\n",
       "div.sk-serial,\n",
       "div.sk-item {\n",
       "  /* draw centered vertical line to link estimators */\n",
       "  background-image: linear-gradient(var(--sklearn-color-text-on-default-background), var(--sklearn-color-text-on-default-background));\n",
       "  background-size: 2px 100%;\n",
       "  background-repeat: no-repeat;\n",
       "  background-position: center center;\n",
       "}\n",
       "\n",
       "/* Parallel-specific style estimator block */\n",
       "\n",
       "#sk-container-id-1 div.sk-parallel-item::after {\n",
       "  content: \"\";\n",
       "  width: 100%;\n",
       "  border-bottom: 2px solid var(--sklearn-color-text-on-default-background);\n",
       "  flex-grow: 1;\n",
       "}\n",
       "\n",
       "#sk-container-id-1 div.sk-parallel {\n",
       "  display: flex;\n",
       "  align-items: stretch;\n",
       "  justify-content: center;\n",
       "  background-color: var(--sklearn-color-background);\n",
       "  position: relative;\n",
       "}\n",
       "\n",
       "#sk-container-id-1 div.sk-parallel-item {\n",
       "  display: flex;\n",
       "  flex-direction: column;\n",
       "}\n",
       "\n",
       "#sk-container-id-1 div.sk-parallel-item:first-child::after {\n",
       "  align-self: flex-end;\n",
       "  width: 50%;\n",
       "}\n",
       "\n",
       "#sk-container-id-1 div.sk-parallel-item:last-child::after {\n",
       "  align-self: flex-start;\n",
       "  width: 50%;\n",
       "}\n",
       "\n",
       "#sk-container-id-1 div.sk-parallel-item:only-child::after {\n",
       "  width: 0;\n",
       "}\n",
       "\n",
       "/* Serial-specific style estimator block */\n",
       "\n",
       "#sk-container-id-1 div.sk-serial {\n",
       "  display: flex;\n",
       "  flex-direction: column;\n",
       "  align-items: center;\n",
       "  background-color: var(--sklearn-color-background);\n",
       "  padding-right: 1em;\n",
       "  padding-left: 1em;\n",
       "}\n",
       "\n",
       "\n",
       "/* Toggleable style: style used for estimator/Pipeline/ColumnTransformer box that is\n",
       "clickable and can be expanded/collapsed.\n",
       "- Pipeline and ColumnTransformer use this feature and define the default style\n",
       "- Estimators will overwrite some part of the style using the `sk-estimator` class\n",
       "*/\n",
       "\n",
       "/* Pipeline and ColumnTransformer style (default) */\n",
       "\n",
       "#sk-container-id-1 div.sk-toggleable {\n",
       "  /* Default theme specific background. It is overwritten whether we have a\n",
       "  specific estimator or a Pipeline/ColumnTransformer */\n",
       "  background-color: var(--sklearn-color-background);\n",
       "}\n",
       "\n",
       "/* Toggleable label */\n",
       "#sk-container-id-1 label.sk-toggleable__label {\n",
       "  cursor: pointer;\n",
       "  display: flex;\n",
       "  width: 100%;\n",
       "  margin-bottom: 0;\n",
       "  padding: 0.5em;\n",
       "  box-sizing: border-box;\n",
       "  text-align: center;\n",
       "  align-items: start;\n",
       "  justify-content: space-between;\n",
       "  gap: 0.5em;\n",
       "}\n",
       "\n",
       "#sk-container-id-1 label.sk-toggleable__label .caption {\n",
       "  font-size: 0.6rem;\n",
       "  font-weight: lighter;\n",
       "  color: var(--sklearn-color-text-muted);\n",
       "}\n",
       "\n",
       "#sk-container-id-1 label.sk-toggleable__label-arrow:before {\n",
       "  /* Arrow on the left of the label */\n",
       "  content: \"▸\";\n",
       "  float: left;\n",
       "  margin-right: 0.25em;\n",
       "  color: var(--sklearn-color-icon);\n",
       "}\n",
       "\n",
       "#sk-container-id-1 label.sk-toggleable__label-arrow:hover:before {\n",
       "  color: var(--sklearn-color-text);\n",
       "}\n",
       "\n",
       "/* Toggleable content - dropdown */\n",
       "\n",
       "#sk-container-id-1 div.sk-toggleable__content {\n",
       "  max-height: 0;\n",
       "  max-width: 0;\n",
       "  overflow: hidden;\n",
       "  text-align: left;\n",
       "  /* unfitted */\n",
       "  background-color: var(--sklearn-color-unfitted-level-0);\n",
       "}\n",
       "\n",
       "#sk-container-id-1 div.sk-toggleable__content.fitted {\n",
       "  /* fitted */\n",
       "  background-color: var(--sklearn-color-fitted-level-0);\n",
       "}\n",
       "\n",
       "#sk-container-id-1 div.sk-toggleable__content pre {\n",
       "  margin: 0.2em;\n",
       "  border-radius: 0.25em;\n",
       "  color: var(--sklearn-color-text);\n",
       "  /* unfitted */\n",
       "  background-color: var(--sklearn-color-unfitted-level-0);\n",
       "}\n",
       "\n",
       "#sk-container-id-1 div.sk-toggleable__content.fitted pre {\n",
       "  /* unfitted */\n",
       "  background-color: var(--sklearn-color-fitted-level-0);\n",
       "}\n",
       "\n",
       "#sk-container-id-1 input.sk-toggleable__control:checked~div.sk-toggleable__content {\n",
       "  /* Expand drop-down */\n",
       "  max-height: 200px;\n",
       "  max-width: 100%;\n",
       "  overflow: auto;\n",
       "}\n",
       "\n",
       "#sk-container-id-1 input.sk-toggleable__control:checked~label.sk-toggleable__label-arrow:before {\n",
       "  content: \"▾\";\n",
       "}\n",
       "\n",
       "/* Pipeline/ColumnTransformer-specific style */\n",
       "\n",
       "#sk-container-id-1 div.sk-label input.sk-toggleable__control:checked~label.sk-toggleable__label {\n",
       "  color: var(--sklearn-color-text);\n",
       "  background-color: var(--sklearn-color-unfitted-level-2);\n",
       "}\n",
       "\n",
       "#sk-container-id-1 div.sk-label.fitted input.sk-toggleable__control:checked~label.sk-toggleable__label {\n",
       "  background-color: var(--sklearn-color-fitted-level-2);\n",
       "}\n",
       "\n",
       "/* Estimator-specific style */\n",
       "\n",
       "/* Colorize estimator box */\n",
       "#sk-container-id-1 div.sk-estimator input.sk-toggleable__control:checked~label.sk-toggleable__label {\n",
       "  /* unfitted */\n",
       "  background-color: var(--sklearn-color-unfitted-level-2);\n",
       "}\n",
       "\n",
       "#sk-container-id-1 div.sk-estimator.fitted input.sk-toggleable__control:checked~label.sk-toggleable__label {\n",
       "  /* fitted */\n",
       "  background-color: var(--sklearn-color-fitted-level-2);\n",
       "}\n",
       "\n",
       "#sk-container-id-1 div.sk-label label.sk-toggleable__label,\n",
       "#sk-container-id-1 div.sk-label label {\n",
       "  /* The background is the default theme color */\n",
       "  color: var(--sklearn-color-text-on-default-background);\n",
       "}\n",
       "\n",
       "/* On hover, darken the color of the background */\n",
       "#sk-container-id-1 div.sk-label:hover label.sk-toggleable__label {\n",
       "  color: var(--sklearn-color-text);\n",
       "  background-color: var(--sklearn-color-unfitted-level-2);\n",
       "}\n",
       "\n",
       "/* Label box, darken color on hover, fitted */\n",
       "#sk-container-id-1 div.sk-label.fitted:hover label.sk-toggleable__label.fitted {\n",
       "  color: var(--sklearn-color-text);\n",
       "  background-color: var(--sklearn-color-fitted-level-2);\n",
       "}\n",
       "\n",
       "/* Estimator label */\n",
       "\n",
       "#sk-container-id-1 div.sk-label label {\n",
       "  font-family: monospace;\n",
       "  font-weight: bold;\n",
       "  display: inline-block;\n",
       "  line-height: 1.2em;\n",
       "}\n",
       "\n",
       "#sk-container-id-1 div.sk-label-container {\n",
       "  text-align: center;\n",
       "}\n",
       "\n",
       "/* Estimator-specific */\n",
       "#sk-container-id-1 div.sk-estimator {\n",
       "  font-family: monospace;\n",
       "  border: 1px dotted var(--sklearn-color-border-box);\n",
       "  border-radius: 0.25em;\n",
       "  box-sizing: border-box;\n",
       "  margin-bottom: 0.5em;\n",
       "  /* unfitted */\n",
       "  background-color: var(--sklearn-color-unfitted-level-0);\n",
       "}\n",
       "\n",
       "#sk-container-id-1 div.sk-estimator.fitted {\n",
       "  /* fitted */\n",
       "  background-color: var(--sklearn-color-fitted-level-0);\n",
       "}\n",
       "\n",
       "/* on hover */\n",
       "#sk-container-id-1 div.sk-estimator:hover {\n",
       "  /* unfitted */\n",
       "  background-color: var(--sklearn-color-unfitted-level-2);\n",
       "}\n",
       "\n",
       "#sk-container-id-1 div.sk-estimator.fitted:hover {\n",
       "  /* fitted */\n",
       "  background-color: var(--sklearn-color-fitted-level-2);\n",
       "}\n",
       "\n",
       "/* Specification for estimator info (e.g. \"i\" and \"?\") */\n",
       "\n",
       "/* Common style for \"i\" and \"?\" */\n",
       "\n",
       ".sk-estimator-doc-link,\n",
       "a:link.sk-estimator-doc-link,\n",
       "a:visited.sk-estimator-doc-link {\n",
       "  float: right;\n",
       "  font-size: smaller;\n",
       "  line-height: 1em;\n",
       "  font-family: monospace;\n",
       "  background-color: var(--sklearn-color-background);\n",
       "  border-radius: 1em;\n",
       "  height: 1em;\n",
       "  width: 1em;\n",
       "  text-decoration: none !important;\n",
       "  margin-left: 0.5em;\n",
       "  text-align: center;\n",
       "  /* unfitted */\n",
       "  border: var(--sklearn-color-unfitted-level-1) 1pt solid;\n",
       "  color: var(--sklearn-color-unfitted-level-1);\n",
       "}\n",
       "\n",
       ".sk-estimator-doc-link.fitted,\n",
       "a:link.sk-estimator-doc-link.fitted,\n",
       "a:visited.sk-estimator-doc-link.fitted {\n",
       "  /* fitted */\n",
       "  border: var(--sklearn-color-fitted-level-1) 1pt solid;\n",
       "  color: var(--sklearn-color-fitted-level-1);\n",
       "}\n",
       "\n",
       "/* On hover */\n",
       "div.sk-estimator:hover .sk-estimator-doc-link:hover,\n",
       ".sk-estimator-doc-link:hover,\n",
       "div.sk-label-container:hover .sk-estimator-doc-link:hover,\n",
       ".sk-estimator-doc-link:hover {\n",
       "  /* unfitted */\n",
       "  background-color: var(--sklearn-color-unfitted-level-3);\n",
       "  color: var(--sklearn-color-background);\n",
       "  text-decoration: none;\n",
       "}\n",
       "\n",
       "div.sk-estimator.fitted:hover .sk-estimator-doc-link.fitted:hover,\n",
       ".sk-estimator-doc-link.fitted:hover,\n",
       "div.sk-label-container:hover .sk-estimator-doc-link.fitted:hover,\n",
       ".sk-estimator-doc-link.fitted:hover {\n",
       "  /* fitted */\n",
       "  background-color: var(--sklearn-color-fitted-level-3);\n",
       "  color: var(--sklearn-color-background);\n",
       "  text-decoration: none;\n",
       "}\n",
       "\n",
       "/* Span, style for the box shown on hovering the info icon */\n",
       ".sk-estimator-doc-link span {\n",
       "  display: none;\n",
       "  z-index: 9999;\n",
       "  position: relative;\n",
       "  font-weight: normal;\n",
       "  right: .2ex;\n",
       "  padding: .5ex;\n",
       "  margin: .5ex;\n",
       "  width: min-content;\n",
       "  min-width: 20ex;\n",
       "  max-width: 50ex;\n",
       "  color: var(--sklearn-color-text);\n",
       "  box-shadow: 2pt 2pt 4pt #999;\n",
       "  /* unfitted */\n",
       "  background: var(--sklearn-color-unfitted-level-0);\n",
       "  border: .5pt solid var(--sklearn-color-unfitted-level-3);\n",
       "}\n",
       "\n",
       ".sk-estimator-doc-link.fitted span {\n",
       "  /* fitted */\n",
       "  background: var(--sklearn-color-fitted-level-0);\n",
       "  border: var(--sklearn-color-fitted-level-3);\n",
       "}\n",
       "\n",
       ".sk-estimator-doc-link:hover span {\n",
       "  display: block;\n",
       "}\n",
       "\n",
       "/* \"?\"-specific style due to the `<a>` HTML tag */\n",
       "\n",
       "#sk-container-id-1 a.estimator_doc_link {\n",
       "  float: right;\n",
       "  font-size: 1rem;\n",
       "  line-height: 1em;\n",
       "  font-family: monospace;\n",
       "  background-color: var(--sklearn-color-background);\n",
       "  border-radius: 1rem;\n",
       "  height: 1rem;\n",
       "  width: 1rem;\n",
       "  text-decoration: none;\n",
       "  /* unfitted */\n",
       "  color: var(--sklearn-color-unfitted-level-1);\n",
       "  border: var(--sklearn-color-unfitted-level-1) 1pt solid;\n",
       "}\n",
       "\n",
       "#sk-container-id-1 a.estimator_doc_link.fitted {\n",
       "  /* fitted */\n",
       "  border: var(--sklearn-color-fitted-level-1) 1pt solid;\n",
       "  color: var(--sklearn-color-fitted-level-1);\n",
       "}\n",
       "\n",
       "/* On hover */\n",
       "#sk-container-id-1 a.estimator_doc_link:hover {\n",
       "  /* unfitted */\n",
       "  background-color: var(--sklearn-color-unfitted-level-3);\n",
       "  color: var(--sklearn-color-background);\n",
       "  text-decoration: none;\n",
       "}\n",
       "\n",
       "#sk-container-id-1 a.estimator_doc_link.fitted:hover {\n",
       "  /* fitted */\n",
       "  background-color: var(--sklearn-color-fitted-level-3);\n",
       "}\n",
       "</style><div id=\"sk-container-id-1\" class=\"sk-top-container\"><div class=\"sk-text-repr-fallback\"><pre>VotingClassifier(estimators=[(&#x27;LR&#x27;,\n",
       "                              LogisticRegression(penalty=&#x27;l1&#x27;,\n",
       "                                                 solver=&#x27;liblinear&#x27;)),\n",
       "                             (&#x27;nb&#x27;, MultinomialNB()),\n",
       "                             (&#x27;RF&#x27;,\n",
       "                              RandomForestClassifier(n_estimators=50,\n",
       "                                                     random_state=2))],\n",
       "                 voting=&#x27;soft&#x27;)</pre><b>In a Jupyter environment, please rerun this cell to show the HTML representation or trust the notebook. <br />On GitHub, the HTML representation is unable to render, please try loading this page with nbviewer.org.</b></div><div class=\"sk-container\" hidden><div class=\"sk-item sk-dashed-wrapped\"><div class=\"sk-label-container\"><div class=\"sk-label fitted sk-toggleable\"><input class=\"sk-toggleable__control sk-hidden--visually\" id=\"sk-estimator-id-1\" type=\"checkbox\" ><label for=\"sk-estimator-id-1\" class=\"sk-toggleable__label fitted sk-toggleable__label-arrow\"><div><div>VotingClassifier</div></div><div><a class=\"sk-estimator-doc-link fitted\" rel=\"noreferrer\" target=\"_blank\" href=\"https://scikit-learn.org/1.6/modules/generated/sklearn.ensemble.VotingClassifier.html\">?<span>Documentation for VotingClassifier</span></a><span class=\"sk-estimator-doc-link fitted\">i<span>Fitted</span></span></div></label><div class=\"sk-toggleable__content fitted\"><pre>VotingClassifier(estimators=[(&#x27;LR&#x27;,\n",
       "                              LogisticRegression(penalty=&#x27;l1&#x27;,\n",
       "                                                 solver=&#x27;liblinear&#x27;)),\n",
       "                             (&#x27;nb&#x27;, MultinomialNB()),\n",
       "                             (&#x27;RF&#x27;,\n",
       "                              RandomForestClassifier(n_estimators=50,\n",
       "                                                     random_state=2))],\n",
       "                 voting=&#x27;soft&#x27;)</pre></div> </div></div><div class=\"sk-parallel\"><div class=\"sk-parallel-item\"><div class=\"sk-item\"><div class=\"sk-label-container\"><div class=\"sk-label fitted sk-toggleable\"><label>LR</label></div></div><div class=\"sk-serial\"><div class=\"sk-item\"><div class=\"sk-estimator fitted sk-toggleable\"><input class=\"sk-toggleable__control sk-hidden--visually\" id=\"sk-estimator-id-2\" type=\"checkbox\" ><label for=\"sk-estimator-id-2\" class=\"sk-toggleable__label fitted sk-toggleable__label-arrow\"><div><div>LogisticRegression</div></div><div><a class=\"sk-estimator-doc-link fitted\" rel=\"noreferrer\" target=\"_blank\" href=\"https://scikit-learn.org/1.6/modules/generated/sklearn.linear_model.LogisticRegression.html\">?<span>Documentation for LogisticRegression</span></a></div></label><div class=\"sk-toggleable__content fitted\"><pre>LogisticRegression(penalty=&#x27;l1&#x27;, solver=&#x27;liblinear&#x27;)</pre></div> </div></div></div></div></div><div class=\"sk-parallel-item\"><div class=\"sk-item\"><div class=\"sk-label-container\"><div class=\"sk-label fitted sk-toggleable\"><label>nb</label></div></div><div class=\"sk-serial\"><div class=\"sk-item\"><div class=\"sk-estimator fitted sk-toggleable\"><input class=\"sk-toggleable__control sk-hidden--visually\" id=\"sk-estimator-id-3\" type=\"checkbox\" ><label for=\"sk-estimator-id-3\" class=\"sk-toggleable__label fitted sk-toggleable__label-arrow\"><div><div>MultinomialNB</div></div><div><a class=\"sk-estimator-doc-link fitted\" rel=\"noreferrer\" target=\"_blank\" href=\"https://scikit-learn.org/1.6/modules/generated/sklearn.naive_bayes.MultinomialNB.html\">?<span>Documentation for MultinomialNB</span></a></div></label><div class=\"sk-toggleable__content fitted\"><pre>MultinomialNB()</pre></div> </div></div></div></div></div><div class=\"sk-parallel-item\"><div class=\"sk-item\"><div class=\"sk-label-container\"><div class=\"sk-label fitted sk-toggleable\"><label>RF</label></div></div><div class=\"sk-serial\"><div class=\"sk-item\"><div class=\"sk-estimator fitted sk-toggleable\"><input class=\"sk-toggleable__control sk-hidden--visually\" id=\"sk-estimator-id-4\" type=\"checkbox\" ><label for=\"sk-estimator-id-4\" class=\"sk-toggleable__label fitted sk-toggleable__label-arrow\"><div><div>RandomForestClassifier</div></div><div><a class=\"sk-estimator-doc-link fitted\" rel=\"noreferrer\" target=\"_blank\" href=\"https://scikit-learn.org/1.6/modules/generated/sklearn.ensemble.RandomForestClassifier.html\">?<span>Documentation for RandomForestClassifier</span></a></div></label><div class=\"sk-toggleable__content fitted\"><pre>RandomForestClassifier(n_estimators=50, random_state=2)</pre></div> </div></div></div></div></div></div></div></div></div>"
      ],
      "text/plain": [
       "VotingClassifier(estimators=[('LR',\n",
       "                              LogisticRegression(penalty='l1',\n",
       "                                                 solver='liblinear')),\n",
       "                             ('nb', MultinomialNB()),\n",
       "                             ('RF',\n",
       "                              RandomForestClassifier(n_estimators=50,\n",
       "                                                     random_state=2))],\n",
       "                 voting='soft')"
      ]
     },
     "execution_count": 44,
     "metadata": {},
     "output_type": "execute_result"
    }
   ],
   "source": [
    "voting.fit(X_train,y_train)"
   ]
  },
  {
   "cell_type": "code",
   "execution_count": 45,
   "id": "8c23ade1",
   "metadata": {
    "execution": {
     "iopub.execute_input": "2024-08-24T10:51:50.092297Z",
     "iopub.status.busy": "2024-08-24T10:51:50.091986Z",
     "iopub.status.idle": "2024-08-24T10:51:50.562205Z",
     "shell.execute_reply": "2024-08-24T10:51:50.561228Z"
    },
    "papermill": {
     "duration": 0.49843,
     "end_time": "2024-08-24T10:51:50.564477",
     "exception": false,
     "start_time": "2024-08-24T10:51:50.066047",
     "status": "completed"
    },
    "tags": []
   },
   "outputs": [
    {
     "name": "stdout",
     "output_type": "stream",
     "text": [
      "Accuracy 0.8594581219844117\n",
      "Precision 0.8641290647844719\n"
     ]
    }
   ],
   "source": [
    "y_pred = voting.predict(X_test)\n",
    "print(\"Accuracy\",accuracy_score(y_test,y_pred))\n",
    "print(\"Precision\",precision_score(y_test,y_pred))"
   ]
  },
  {
   "cell_type": "code",
   "execution_count": 46,
   "id": "a558c584",
   "metadata": {
    "execution": {
     "iopub.execute_input": "2024-08-24T10:51:50.617194Z",
     "iopub.status.busy": "2024-08-24T10:51:50.616857Z",
     "iopub.status.idle": "2024-08-24T10:51:50.621454Z",
     "shell.execute_reply": "2024-08-24T10:51:50.620543Z"
    },
    "papermill": {
     "duration": 0.032673,
     "end_time": "2024-08-24T10:51:50.623364",
     "exception": false,
     "start_time": "2024-08-24T10:51:50.590691",
     "status": "completed"
    },
    "tags": []
   },
   "outputs": [],
   "source": [
    "estimators = [('LR', lrc), ('nb', mnb), ('RF', rfc)]\n",
    "final_estimator = RandomForestClassifier(n_estimators=50, random_state=2)"
   ]
  },
  {
   "cell_type": "code",
   "execution_count": 47,
   "id": "f0b8cd21",
   "metadata": {
    "execution": {
     "iopub.execute_input": "2024-08-24T10:51:50.675816Z",
     "iopub.status.busy": "2024-08-24T10:51:50.675112Z",
     "iopub.status.idle": "2024-08-24T10:51:50.679264Z",
     "shell.execute_reply": "2024-08-24T10:51:50.678454Z"
    },
    "papermill": {
     "duration": 0.032205,
     "end_time": "2024-08-24T10:51:50.681106",
     "exception": false,
     "start_time": "2024-08-24T10:51:50.648901",
     "status": "completed"
    },
    "tags": []
   },
   "outputs": [],
   "source": [
    "clf = StackingClassifier(estimators=estimators, final_estimator=final_estimator)"
   ]
  },
  {
   "cell_type": "code",
   "execution_count": 48,
   "id": "a44f3788",
   "metadata": {
    "execution": {
     "iopub.execute_input": "2024-08-24T10:51:50.732543Z",
     "iopub.status.busy": "2024-08-24T10:51:50.732255Z",
     "iopub.status.idle": "2024-08-24T10:54:36.065985Z",
     "shell.execute_reply": "2024-08-24T10:54:36.065035Z"
    },
    "papermill": {
     "duration": 165.387815,
     "end_time": "2024-08-24T10:54:36.093987",
     "exception": false,
     "start_time": "2024-08-24T10:51:50.706172",
     "status": "completed"
    },
    "tags": []
   },
   "outputs": [
    {
     "name": "stdout",
     "output_type": "stream",
     "text": [
      "Accuracy 0.8512928368180132\n",
      "Precision 0.8462104488594555\n"
     ]
    }
   ],
   "source": [
    "clf.fit(X_train,y_train)\n",
    "y_pred = clf.predict(X_test)\n",
    "print(\"Accuracy\",accuracy_score(y_test,y_pred))\n",
    "print(\"Precision\",precision_score(y_test,y_pred))"
   ]
  },
  {
   "cell_type": "code",
   "execution_count": 49,
   "id": "31674553",
   "metadata": {
    "execution": {
     "iopub.execute_input": "2024-08-24T10:54:36.146876Z",
     "iopub.status.busy": "2024-08-24T10:54:36.146226Z",
     "iopub.status.idle": "2024-08-24T10:54:36.166864Z",
     "shell.execute_reply": "2024-08-24T10:54:36.165949Z"
    },
    "papermill": {
     "duration": 0.049672,
     "end_time": "2024-08-24T10:54:36.168953",
     "exception": false,
     "start_time": "2024-08-24T10:54:36.119281",
     "status": "completed"
    },
    "tags": []
   },
   "outputs": [],
   "source": [
    "pickle.dump(tfidf,open('vectorizer.pkl','wb'))\n",
    "pickle.dump(mnb,open('model.pkl','wb'))"
   ]
  },
  {
   "cell_type": "code",
   "execution_count": null,
   "id": "4298fa25",
   "metadata": {
    "papermill": {
     "duration": 0.025325,
     "end_time": "2024-08-24T10:54:36.220161",
     "exception": false,
     "start_time": "2024-08-24T10:54:36.194836",
     "status": "completed"
    },
    "tags": []
   },
   "outputs": [],
   "source": []
  }
 ],
 "metadata": {
  "kaggle": {
   "accelerator": "gpu",
   "dataSources": [
    {
     "datasetId": 3749709,
     "sourceId": 6488923,
     "sourceType": "datasetVersion"
    }
   ],
   "dockerImageVersionId": 30762,
   "isGpuEnabled": true,
   "isInternetEnabled": true,
   "language": "python",
   "sourceType": "notebook"
  },
  "kernelspec": {
   "display_name": "amazon-review-checker",
   "language": "python",
   "name": "python3"
  },
  "language_info": {
   "codemirror_mode": {
    "name": "ipython",
    "version": 3
   },
   "file_extension": ".py",
   "mimetype": "text/x-python",
   "name": "python",
   "nbconvert_exporter": "python",
   "pygments_lexer": "ipython3",
   "version": "3.10.16"
  },
  "papermill": {
   "default_parameters": {},
   "duration": 864.06849,
   "end_time": "2024-08-24T10:54:36.965324",
   "environment_variables": {},
   "exception": null,
   "input_path": "__notebook__.ipynb",
   "output_path": "__notebook__.ipynb",
   "parameters": {},
   "start_time": "2024-08-24T10:40:12.896834",
   "version": "2.6.0"
  }
 },
 "nbformat": 4,
 "nbformat_minor": 5
}
